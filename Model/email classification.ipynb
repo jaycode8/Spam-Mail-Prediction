{
 "cells": [
  {
   "cell_type": "markdown",
   "id": "296427ec",
   "metadata": {},
   "source": [
    "# EMAIL SPAM CLASSIFICATION"
   ]
  },
  {
   "cell_type": "markdown",
   "id": "ce719f27",
   "metadata": {},
   "source": [
    "### imports"
   ]
  },
  {
   "cell_type": "code",
   "execution_count": 1,
   "id": "2437e1ad",
   "metadata": {},
   "outputs": [],
   "source": [
    "import pandas as pd\n",
    "from sklearn.preprocessing import LabelEncoder\n",
    "import matplotlib.pyplot as plt\n",
    "from sklearn.model_selection import train_test_split \n",
    "from sklearn.feature_extraction.text import TfidfVectorizer\n",
    "from sklearn.naive_bayes import MultinomialNB\n",
    "from sklearn.ensemble import RandomForestClassifier\n",
    "from sklearn.metrics import accuracy_score\n",
    "import pickle"
   ]
  },
  {
   "cell_type": "markdown",
   "id": "736f3c92",
   "metadata": {},
   "source": [
    "### dataset loading"
   ]
  },
  {
   "cell_type": "code",
   "execution_count": 2,
   "id": "2a8aac9b",
   "metadata": {},
   "outputs": [
    {
     "data": {
      "text/html": [
       "<div>\n",
       "<style scoped>\n",
       "    .dataframe tbody tr th:only-of-type {\n",
       "        vertical-align: middle;\n",
       "    }\n",
       "\n",
       "    .dataframe tbody tr th {\n",
       "        vertical-align: top;\n",
       "    }\n",
       "\n",
       "    .dataframe thead th {\n",
       "        text-align: right;\n",
       "    }\n",
       "</style>\n",
       "<table border=\"1\" class=\"dataframe\">\n",
       "  <thead>\n",
       "    <tr style=\"text-align: right;\">\n",
       "      <th></th>\n",
       "      <th>Category</th>\n",
       "      <th>Message</th>\n",
       "    </tr>\n",
       "  </thead>\n",
       "  <tbody>\n",
       "    <tr>\n",
       "      <th>0</th>\n",
       "      <td>ham</td>\n",
       "      <td>Go until jurong point, crazy.. Available only ...</td>\n",
       "    </tr>\n",
       "    <tr>\n",
       "      <th>1</th>\n",
       "      <td>ham</td>\n",
       "      <td>Ok lar... Joking wif u oni...</td>\n",
       "    </tr>\n",
       "    <tr>\n",
       "      <th>2</th>\n",
       "      <td>spam</td>\n",
       "      <td>Free entry in 2 a wkly comp to win FA Cup fina...</td>\n",
       "    </tr>\n",
       "    <tr>\n",
       "      <th>3</th>\n",
       "      <td>ham</td>\n",
       "      <td>U dun say so early hor... U c already then say...</td>\n",
       "    </tr>\n",
       "    <tr>\n",
       "      <th>4</th>\n",
       "      <td>ham</td>\n",
       "      <td>Nah I don't think he goes to usf, he lives aro...</td>\n",
       "    </tr>\n",
       "  </tbody>\n",
       "</table>\n",
       "</div>"
      ],
      "text/plain": [
       "  Category                                            Message\n",
       "0      ham  Go until jurong point, crazy.. Available only ...\n",
       "1      ham                      Ok lar... Joking wif u oni...\n",
       "2     spam  Free entry in 2 a wkly comp to win FA Cup fina...\n",
       "3      ham  U dun say so early hor... U c already then say...\n",
       "4      ham  Nah I don't think he goes to usf, he lives aro..."
      ]
     },
     "execution_count": 2,
     "metadata": {},
     "output_type": "execute_result"
    }
   ],
   "source": [
    "mail_data = pd.read_csv('mail_data.csv')\n",
    "mail_data.head()"
   ]
  },
  {
   "cell_type": "markdown",
   "id": "d2fb3e22",
   "metadata": {},
   "source": [
    "### printing shape of dataset"
   ]
  },
  {
   "cell_type": "code",
   "execution_count": 3,
   "id": "69d7eb4b",
   "metadata": {},
   "outputs": [
    {
     "data": {
      "text/plain": [
       "(5572, 2)"
      ]
     },
     "execution_count": 3,
     "metadata": {},
     "output_type": "execute_result"
    }
   ],
   "source": [
    "mail_data.shape"
   ]
  },
  {
   "cell_type": "markdown",
   "id": "1553cc80",
   "metadata": {},
   "source": [
    "### checking for null values"
   ]
  },
  {
   "cell_type": "code",
   "execution_count": 4,
   "id": "43885465",
   "metadata": {},
   "outputs": [
    {
     "data": {
      "text/plain": [
       "Category    0.0\n",
       "Message     0.0\n",
       "dtype: float64"
      ]
     },
     "execution_count": 4,
     "metadata": {},
     "output_type": "execute_result"
    }
   ],
   "source": [
    "mail_data.isnull().mean()"
   ]
  },
  {
   "cell_type": "markdown",
   "id": "555f1614",
   "metadata": {},
   "source": [
    "### dealing with categorical data"
   ]
  },
  {
   "cell_type": "code",
   "execution_count": 5,
   "id": "adbfa7db",
   "metadata": {},
   "outputs": [],
   "source": [
    "le = LabelEncoder()"
   ]
  },
  {
   "cell_type": "code",
   "execution_count": 6,
   "id": "d4bc0406",
   "metadata": {},
   "outputs": [],
   "source": [
    "mail_data['Category'] = le.fit_transform(mail_data['Category'])"
   ]
  },
  {
   "cell_type": "markdown",
   "id": "2f746f9f",
   "metadata": {},
   "source": [
    "### data visualization"
   ]
  },
  {
   "cell_type": "code",
   "execution_count": 7,
   "id": "133424e6",
   "metadata": {},
   "outputs": [],
   "source": [
    "plt.rcParams['figure.figsize'] = [8,9]"
   ]
  },
  {
   "cell_type": "code",
   "execution_count": 8,
   "id": "879994f8",
   "metadata": {},
   "outputs": [
    {
     "data": {
      "text/plain": [
       "Text(0.5, 1.0, 'Pie chart for the distribution of categorical mails')"
      ]
     },
     "execution_count": 8,
     "metadata": {},
     "output_type": "execute_result"
    },
    {
     "data": {
      "image/png": "[encoded data removed]",
      "text/plain": [
       "<Figure size 576x648 with 1 Axes>"
      ]
     },
     "metadata": {},
     "output_type": "display_data"
    }
   ],
   "source": [
    "mail_data.Category.value_counts().plot(kind='pie', autopct='%1.0f%%')\n",
    "plt.title('Pie chart for the distribution of categorical mails',fontweight='bold', fontsize=20, color='y')"
   ]
  },
  {
   "cell_type": "markdown",
   "id": "f7cd46e9",
   "metadata": {},
   "source": [
    "### dividing data into features and labels"
   ]
  },
  {
   "cell_type": "code",
   "execution_count": 9,
   "id": "7d857073",
   "metadata": {},
   "outputs": [],
   "source": [
    "X = mail_data['Message']\n",
    "y = mail_data['Category']"
   ]
  },
  {
   "cell_type": "markdown",
   "id": "35887935",
   "metadata": {},
   "source": [
    "### dividing dataset further to train set and test set"
   ]
  },
  {
   "cell_type": "code",
   "execution_count": 10,
   "id": "3999c4cb",
   "metadata": {},
   "outputs": [],
   "source": [
    "X_train, X_test, y_train, y_test = train_test_split(X, y, test_size=0.20)"
   ]
  },
  {
   "cell_type": "markdown",
   "id": "fb3e372d",
   "metadata": {},
   "source": [
    "### feature extraction"
   ]
  },
  {
   "cell_type": "code",
   "execution_count": 11,
   "id": "68a3055f",
   "metadata": {},
   "outputs": [],
   "source": [
    "fe = TfidfVectorizer(min_df=1, stop_words = 'english', lowercase = 'True')"
   ]
  },
  {
   "cell_type": "code",
   "execution_count": 12,
   "id": "5ed5342d",
   "metadata": {},
   "outputs": [],
   "source": [
    "X_train = fe.fit_transform(X_train)\n",
    "X_test = fe.transform(X_test)"
   ]
  },
  {
   "cell_type": "code",
   "execution_count": null,
   "id": "85cf6c5c",
   "metadata": {},
   "outputs": [],
   "source": []
  },
  {
   "cell_type": "markdown",
   "id": "841f34bd",
   "metadata": {},
   "source": [
    "## Classification Model"
   ]
  },
  {
   "cell_type": "markdown",
   "id": "34f2645e",
   "metadata": {},
   "source": [
    "### 1: Naive Bayes model"
   ]
  },
  {
   "cell_type": "code",
   "execution_count": 13,
   "id": "b5101751",
   "metadata": {},
   "outputs": [],
   "source": [
    "mnb = MultinomialNB()"
   ]
  },
  {
   "cell_type": "code",
   "execution_count": 14,
   "id": "de80a566",
   "metadata": {},
   "outputs": [],
   "source": [
    "classifier = mnb.fit(X_train,y_train)\n",
    "spam_pred = classifier.predict(X_test)"
   ]
  },
  {
   "cell_type": "markdown",
   "id": "f2de667e",
   "metadata": {},
   "source": [
    "### 2: Random Forest Classifier"
   ]
  },
  {
   "cell_type": "code",
   "execution_count": 15,
   "id": "98ce0a57",
   "metadata": {},
   "outputs": [],
   "source": [
    "rf = RandomForestClassifier(n_estimators=42, random_state=500)"
   ]
  },
  {
   "cell_type": "code",
   "execution_count": 16,
   "id": "389777f8",
   "metadata": {},
   "outputs": [],
   "source": [
    "classifier2 = rf.fit(X_train, y_train)\n",
    "spam_pred2 = classifier2.predict(X_test)"
   ]
  },
  {
   "cell_type": "markdown",
   "id": "e1eff9e7",
   "metadata": {},
   "source": [
    "### model evaluation"
   ]
  },
  {
   "cell_type": "code",
   "execution_count": 17,
   "id": "c8341963",
   "metadata": {},
   "outputs": [
    {
     "name": "stdout",
     "output_type": "stream",
     "text": [
      "Naive Bayes Classifier =  97.57847533632287\n",
      "Random Forest Classifier =  97.57847533632287\n"
     ]
    }
   ],
   "source": [
    "print('Naive Bayes Classifier = ',accuracy_score(y_test,spam_pred)*100)\n",
    "print('Random Forest Classifier = ',accuracy_score(y_test,spam_pred)*100)"
   ]
  },
  {
   "cell_type": "markdown",
   "id": "a8889d15",
   "metadata": {},
   "source": [
    "### saving the model"
   ]
  },
  {
   "cell_type": "code",
   "execution_count": 18,
   "id": "0159eab5",
   "metadata": {},
   "outputs": [],
   "source": [
    "naive = 'SpamMailNaiveBayesClassifier.sav'\n",
    "random = 'SpamRandomForestClassifier.sav'"
   ]
  },
  {
   "cell_type": "code",
   "execution_count": 19,
   "id": "846952b6",
   "metadata": {},
   "outputs": [],
   "source": [
    "pickle.dump(classifier, open(naive,'wb'))\n",
    "pickle.dump(classifier2, open(random,'wb'))"
   ]
  },
  {
   "cell_type": "markdown",
   "id": "fdf324fa",
   "metadata": {},
   "source": [
    "### loading the saved models for use"
   ]
  },
  {
   "cell_type": "code",
   "execution_count": 38,
   "id": "1a3a7c81",
   "metadata": {},
   "outputs": [],
   "source": [
    "naives = pickle.load(open('SpamMailNaiveBayesClassifier.sav','rb'))\n",
    "randoms = pickle.load(open('SpamRandomForestClassifier.sav','rb'))"
   ]
  },
  {
   "cell_type": "markdown",
   "id": "c0a5bb86",
   "metadata": {},
   "source": [
    "## Making A Predictive System"
   ]
  },
  {
   "cell_type": "code",
   "execution_count": 46,
   "id": "0bb3af46",
   "metadata": {},
   "outputs": [
    {
     "name": "stdout",
     "output_type": "stream",
     "text": [
      "Enter Email message\n",
      "\tOk lar... Joking wif u oni...\n",
      "\n",
      "Choose of classification model to use below \n",
      "\t1: Naive Bayes Model\n",
      "\t2: Random Forest Model\n",
      "\t2\n",
      "\n",
      "RANDOM FOREST CLASSIFIER\n",
      "\n",
      "\tEmail is Ham\n"
     ]
    }
   ],
   "source": [
    "class MailsPrediction:\n",
    "    def __init__(self,mail_input):\n",
    "        self.mail_input = mail_input\n",
    "        \n",
    "    def userMails(self):\n",
    "        self.mail = input('Enter Email message\\n\\t')\n",
    "        self.mail_input = [self.mail]\n",
    "        \n",
    "    def choice(self):\n",
    "        choiceOfUse = eval(input('\\nChoose of classification model to use below \\n\\t1: Naive Bayes Model\\n\\t2: Random Forest Model\\n\\t'))\n",
    "        if choiceOfUse == 1:\n",
    "            print(mp.predictionsWithNaive())\n",
    "        elif choiceOfUse ==2:\n",
    "            print(mp.predictsWithRandom())\n",
    "        else:\n",
    "            print('\\n\\tInvalid option !!!')\n",
    "    \n",
    "    def predictionsWithNaive(self):\n",
    "        print('\\nNAIVE BAYES MODEL')\n",
    "        self.inputs = fe.transform(self.mail_input)\n",
    "        self.predict = naives.predict(self.inputs)\n",
    "        #print(self.predict)\n",
    "        if self.predict[0] == 0:\n",
    "            return '\\n\\tEmail is Ham'\n",
    "        else:\n",
    "            return '\\n\\tSpam mail... dont open'\n",
    "        \n",
    "    def predictsWithRandom(self):\n",
    "        print('\\nRANDOM FOREST CLASSIFIER')\n",
    "        self.inputs = fe.transform(self.mail_input)\n",
    "        self.predict = randoms.predict(self.inputs)\n",
    "        if self.predict[0] == 0:\n",
    "            return '\\n\\tEmail is Ham'\n",
    "        else:\n",
    "            return '\\n\\tSpam mail... dont open'\n",
    "    \n",
    "mp = MailsPrediction(mail_input='')\n",
    "mp.userMails()\n",
    "mp.choice()"
   ]
  },
  {
   "cell_type": "code",
   "execution_count": null,
   "id": "9fa324e2",
   "metadata": {},
   "outputs": [],
   "source": []
  }
 ],
 "metadata": {
  "kernelspec": {
   "display_name": "Python 3 (ipykernel)",
   "language": "python",
   "name": "python3"
  },
  "language_info": {
   "codemirror_mode": {
    "name": "ipython",
    "version": 3
   },
   "file_extension": ".py",
   "mimetype": "text/x-python",
   "name": "python",
   "nbconvert_exporter": "python",
   "pygments_lexer": "ipython3",
   "version": "3.9.7"
  }
 },
 "nbformat": 4,
 "nbformat_minor": 5
}
